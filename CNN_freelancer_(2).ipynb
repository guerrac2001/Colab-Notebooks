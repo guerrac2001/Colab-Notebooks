{
  "cells": [
    {
      "cell_type": "markdown",
      "metadata": {
        "id": "view-in-github",
        "colab_type": "text"
      },
      "source": [
        "<a href=\"https://colab.research.google.com/github/guerrac2001/Colab-Notebooks/blob/main/CNN_freelancer_(2).ipynb\" target=\"_parent\"><img src=\"https://colab.research.google.com/assets/colab-badge.svg\" alt=\"Open In Colab\"/></a>"
      ]
    },
    {
      "cell_type": "markdown",
      "metadata": {
        "id": "cLGXT4ONlFsY"
      },
      "source": [
        "## Convolutional neural networks for time series forecasting"
      ]
    },
    {
      "cell_type": "markdown",
      "metadata": {
        "id": "7J15992DlFsZ"
      },
      "source": [
        "### How to do it..."
      ]
    },
    {
      "cell_type": "markdown",
      "metadata": {
        "id": "hl5Md6z9lFsZ"
      },
      "source": [
        "1. Import the libraries:"
      ]
    },
    {
      "cell_type": "code",
      "source": [
        "pip install yfinance"
      ],
      "metadata": {
        "id": "N_bSyypZnafe",
        "colab": {
          "base_uri": "https://localhost:8080/"
        },
        "outputId": "8483a0d7-9ac9-4c27-898d-9d6217192996"
      },
      "execution_count": 1,
      "outputs": [
        {
          "output_type": "stream",
          "name": "stdout",
          "text": [
            "Looking in indexes: https://pypi.org/simple, https://us-python.pkg.dev/colab-wheels/public/simple/\n",
            "Collecting yfinance\n",
            "  Downloading yfinance-0.1.74-py2.py3-none-any.whl (27 kB)\n",
            "Requirement already satisfied: numpy>=1.15 in /usr/local/lib/python3.7/dist-packages (from yfinance) (1.21.6)\n",
            "Requirement already satisfied: pandas>=0.24.0 in /usr/local/lib/python3.7/dist-packages (from yfinance) (1.3.5)\n",
            "Collecting lxml>=4.5.1\n",
            "  Downloading lxml-4.9.1-cp37-cp37m-manylinux_2_17_x86_64.manylinux2014_x86_64.manylinux_2_24_x86_64.whl (6.4 MB)\n",
            "\u001b[K     |████████████████████████████████| 6.4 MB 6.2 MB/s \n",
            "\u001b[?25hRequirement already satisfied: multitasking>=0.0.7 in /usr/local/lib/python3.7/dist-packages (from yfinance) (0.0.11)\n",
            "Collecting requests>=2.26\n",
            "  Downloading requests-2.28.1-py3-none-any.whl (62 kB)\n",
            "\u001b[K     |████████████████████████████████| 62 kB 1.6 MB/s \n",
            "\u001b[?25hRequirement already satisfied: pytz>=2017.3 in /usr/local/lib/python3.7/dist-packages (from pandas>=0.24.0->yfinance) (2022.1)\n",
            "Requirement already satisfied: python-dateutil>=2.7.3 in /usr/local/lib/python3.7/dist-packages (from pandas>=0.24.0->yfinance) (2.8.2)\n",
            "Requirement already satisfied: six>=1.5 in /usr/local/lib/python3.7/dist-packages (from python-dateutil>=2.7.3->pandas>=0.24.0->yfinance) (1.15.0)\n",
            "Requirement already satisfied: charset-normalizer<3,>=2 in /usr/local/lib/python3.7/dist-packages (from requests>=2.26->yfinance) (2.1.0)\n",
            "Requirement already satisfied: certifi>=2017.4.17 in /usr/local/lib/python3.7/dist-packages (from requests>=2.26->yfinance) (2022.6.15)\n",
            "Requirement already satisfied: urllib3<1.27,>=1.21.1 in /usr/local/lib/python3.7/dist-packages (from requests>=2.26->yfinance) (1.24.3)\n",
            "Requirement already satisfied: idna<4,>=2.5 in /usr/local/lib/python3.7/dist-packages (from requests>=2.26->yfinance) (2.10)\n",
            "Installing collected packages: requests, lxml, yfinance\n",
            "  Attempting uninstall: requests\n",
            "    Found existing installation: requests 2.23.0\n",
            "    Uninstalling requests-2.23.0:\n",
            "      Successfully uninstalled requests-2.23.0\n",
            "  Attempting uninstall: lxml\n",
            "    Found existing installation: lxml 4.2.6\n",
            "    Uninstalling lxml-4.2.6:\n",
            "      Successfully uninstalled lxml-4.2.6\n",
            "\u001b[31mERROR: pip's dependency resolver does not currently take into account all the packages that are installed. This behaviour is the source of the following dependency conflicts.\n",
            "google-colab 1.0.0 requires requests~=2.23.0, but you have requests 2.28.1 which is incompatible.\n",
            "datascience 0.10.6 requires folium==0.2.1, but you have folium 0.8.3 which is incompatible.\u001b[0m\n",
            "Successfully installed lxml-4.9.1 requests-2.28.1 yfinance-0.1.74\n"
          ]
        }
      ]
    },
    {
      "cell_type": "markdown",
      "source": [
        "Se almacenaron las variables requeridas y las librerias para llevar a cabo el modelo"
      ],
      "metadata": {
        "id": "ABQblzmNIycd"
      }
    },
    {
      "cell_type": "code",
      "execution_count": 2,
      "metadata": {
        "ExecuteTime": {
          "end_time": "2020-01-29T01:25:36.441096Z",
          "start_time": "2020-01-29T01:25:35.892316Z"
        },
        "colab": {
          "base_uri": "https://localhost:8080/"
        },
        "id": "iVO7Mn1XlFsa",
        "outputId": "e1b8d063-4919-4fce-97c6-688361d22376"
      },
      "outputs": [
        {
          "output_type": "stream",
          "name": "stdout",
          "text": [
            "1.12.0+cu113\n"
          ]
        }
      ],
      "source": [
        "import yfinance as yf\n",
        "import numpy as np\n",
        "import os\n",
        "import random\n",
        "\n",
        "import torch\n",
        "import torch.optim as optim\n",
        "import torch.nn as nn\n",
        "from torch.utils.data import Dataset, TensorDataset, DataLoader, Subset\n",
        "from collections import OrderedDict\n",
        "\n",
        "from sklearn.metrics import mean_squared_error\n",
        "\n",
        "print(torch.__version__)\n",
        "\n",
        "device = 'cuda' if torch.cuda.is_available() else 'cpu'"
      ]
    },
    {
      "cell_type": "markdown",
      "metadata": {
        "id": "NqoI-v6QlFsb"
      },
      "source": [
        "2. Define the parameters:"
      ]
    },
    {
      "cell_type": "code",
      "execution_count": 3,
      "metadata": {
        "ExecuteTime": {
          "end_time": "2020-01-29T01:25:37.065701Z",
          "start_time": "2020-01-29T01:25:37.062709Z"
        },
        "id": "ul8KYfgblFsc"
      },
      "outputs": [],
      "source": [
        "# data\n",
        "import datetime\n",
        "\n",
        "TICKER = \"GOOG\"\n",
        "START_DATE = datetime.datetime (2018, 1, 1)\n",
        "END_DATE = datetime.datetime.now()\n",
        "VALID_START = datetime.datetime (2019,12,31)\n",
        "N_LAGS = 24\n",
        "\n",
        "# neural network \n",
        "BATCH_SIZE = 5"
      ]
    },
    {
      "cell_type": "markdown",
      "metadata": {
        "id": "jkOT2-WslFsd"
      },
      "source": [
        "3. Download and prepare the data:"
      ]
    },
    {
      "cell_type": "markdown",
      "source": [
        "Se define la extraccion de los datos para entrenar el modelo en X y Y"
      ],
      "metadata": {
        "id": "nUy2lIP0JANo"
      }
    },
    {
      "cell_type": "code",
      "execution_count": 4,
      "metadata": {
        "ExecuteTime": {
          "end_time": "2020-01-29T01:25:39.738460Z",
          "start_time": "2020-01-29T01:25:39.583022Z"
        },
        "colab": {
          "base_uri": "https://localhost:8080/"
        },
        "id": "ssuilOYQlFsv",
        "outputId": "3a4291b0-f319-4e83-8fd9-98d42f7c3da1"
      },
      "outputs": [
        {
          "output_type": "stream",
          "name": "stdout",
          "text": [
            "\r[*********************100%***********************]  1 of 1 completed\n",
            "32\n"
          ]
        }
      ],
      "source": [
        "import yfinance as yahooFinance\n",
        "\n",
        "df = yahooFinance.download(TICKER,start=START_DATE, end=END_DATE,interval = \"1mo\", auto_adjust = True)\n",
        "\n",
        "valid_size = df.loc[VALID_START:END_DATE].shape[0]\n",
        "prices = df['Close'].values\n",
        "print(valid_size)"
      ]
    },
    {
      "cell_type": "markdown",
      "metadata": {
        "id": "t4cdajXNlFsx"
      },
      "source": [
        "4. Transform the time series into input for the CNN:"
      ]
    },
    {
      "cell_type": "code",
      "source": [
        "def create_input_data(series, nAtras=1):\n",
        "    x = []\n",
        "    y = []\n",
        "    for precio in range(len(series) - nAtras):\n",
        "        finPrecio = precio + nAtras\n",
        "        x.append(series[precio:finPrecio])\n",
        "        y.append(series[finPrecio])\n",
        "    return np.array(x), np.array(y)"
      ],
      "metadata": {
        "id": "YVKlTlrDpQkn"
      },
      "execution_count": 5,
      "outputs": []
    },
    {
      "cell_type": "markdown",
      "source": [
        "Se tiene que desarrollar los datos quitando los valores no numericos generados en el numpy, en caso que al investigar o la persona que este manejando este reporte considere necesario normalizar para quitar el error puede quitar las dos lineas comentaadas y el codigo se manejara con normalidad"
      ],
      "metadata": {
        "id": "87JLTDYMJG0E"
      }
    },
    {
      "cell_type": "code",
      "execution_count": 6,
      "metadata": {
        "ExecuteTime": {
          "end_time": "2020-01-17T17:07:16.648404Z",
          "start_time": "2020-01-17T17:07:16.645186Z"
        },
        "id": "20W07DjhlFsx"
      },
      "outputs": [],
      "source": [
        "from scipy import stats\n",
        "X, y = create_input_data(prices, N_LAGS)\n",
        "X=np.nan_to_num(X)\n",
        "y=np.nan_to_num(y)\n",
        "#X=stats.zscore(X, axis = 1)\n",
        "#y=stats.zscore(y)"
      ]
    },
    {
      "cell_type": "markdown",
      "metadata": {
        "id": "OhUp5x7mlFsx"
      },
      "source": [
        "5. Obtain the naïve forecast:"
      ]
    },
    {
      "cell_type": "code",
      "execution_count": 7,
      "metadata": {
        "ExecuteTime": {
          "end_time": "2020-01-17T17:07:16.687896Z",
          "start_time": "2020-01-17T17:07:16.683717Z"
        },
        "colab": {
          "base_uri": "https://localhost:8080/"
        },
        "id": "OWQOtkV9lFsy",
        "outputId": "c95d440b-8300-46aa-8705-177a1f25743b"
      },
      "outputs": [
        {
          "output_type": "stream",
          "name": "stdout",
          "text": [
            "Naive forecast - MSE: 481.95, RMSE: 21.95\n"
          ]
        }
      ],
      "source": [
        "naive_pred = prices[len(prices) - valid_size - 1:-1]\n",
        "y_valid = prices[len(prices) - valid_size:]\n",
        "y_valid=np.nan_to_num(y_valid)\n",
        "naive_pred=np.nan_to_num(naive_pred)\n",
        "naive_mse = mean_squared_error(y_valid, naive_pred)\n",
        "naive_rmse = np.sqrt(naive_mse)\n",
        "print(f\"Naive forecast - MSE: {naive_mse:.2f}, RMSE: {naive_rmse:.2f}\")"
      ]
    },
    {
      "cell_type": "markdown",
      "source": [
        "Se considera una alta debido al numero de datos y la variacion de esta a lo largo del tiempo "
      ],
      "metadata": {
        "id": "7KAwegmOJnBm"
      }
    },
    {
      "cell_type": "code",
      "source": [
        "def generaAleatoreaSemi(seed):\n",
        "    torch.manual_seed(seed)\n",
        "    torch.cuda.manual_seed_all(seed)\n",
        "    torch.backends.cudnn.deterministic = True\n",
        "    torch.backends.cudnn.benchmark = False\n",
        "    np.random.seed(seed)\n",
        "    random.seed(seed)\n",
        "    os.environ['PYTHONHASHSEED'] = str(seed)"
      ],
      "metadata": {
        "id": "lds12hCyzTV8"
      },
      "execution_count": 8,
      "outputs": []
    },
    {
      "cell_type": "markdown",
      "metadata": {
        "ExecuteTime": {
          "end_time": "2020-01-13T07:22:50.333717Z",
          "start_time": "2020-01-13T07:22:50.330143Z"
        },
        "id": "8ebP42r7lFsz"
      },
      "source": [
        "6. Prepare the `DataLoader` objects:"
      ]
    },
    {
      "cell_type": "code",
      "execution_count": 9,
      "metadata": {
        "ExecuteTime": {
          "end_time": "2020-01-17T17:07:46.137217Z",
          "start_time": "2020-01-17T17:07:46.124283Z"
        },
        "id": "BCdjfzLPlFs0"
      },
      "outputs": [],
      "source": [
        "generaAleatoreaSemi(42)\n",
        "\n",
        "#valid_ind = len(X) - valid_size\n",
        "valid_ind=26\n",
        "X_tensor = torch.from_numpy(X).float()\n",
        "y_tensor = torch.from_numpy(y).float().unsqueeze(dim=1)\n",
        "\n",
        "dataset = TensorDataset(X_tensor, y_tensor)\n",
        "\n",
        "train_dataset = Subset(dataset, list(range(valid_ind)))\n",
        "valid_dataset = Subset(dataset, list(range(valid_ind, len(X))))\n",
        "\n",
        "train_loader = DataLoader(dataset=train_dataset, batch_size=BATCH_SIZE)\n",
        "\n",
        "valid_loader = DataLoader(dataset=valid_dataset, batch_size=BATCH_SIZE)"
      ]
    },
    {
      "cell_type": "markdown",
      "metadata": {
        "id": "Elfc8nEElFs1"
      },
      "source": [
        "Check the size of the datasets:"
      ]
    },
    {
      "cell_type": "code",
      "execution_count": 10,
      "metadata": {
        "ExecuteTime": {
          "end_time": "2020-01-17T17:07:47.261941Z",
          "start_time": "2020-01-17T17:07:47.258666Z"
        },
        "colab": {
          "base_uri": "https://localhost:8080/"
        },
        "id": "HD6DfqGalFs1",
        "outputId": "79a4ce26-ce76-412c-b0f7-b8c235aba06a"
      },
      "outputs": [
        {
          "output_type": "stream",
          "name": "stdout",
          "text": [
            "Size of datasets - training: 26 | validation: 6\n"
          ]
        }
      ],
      "source": [
        "print(f'Size of datasets - training: {len(train_loader.dataset)} | validation: {len(valid_loader.dataset)}')"
      ]
    },
    {
      "cell_type": "markdown",
      "metadata": {
        "id": "zBW-ebgzlFs2"
      },
      "source": [
        "7. Define the CNN's architecture:"
      ]
    },
    {
      "cell_type": "code",
      "execution_count": 11,
      "metadata": {
        "ExecuteTime": {
          "end_time": "2020-01-17T17:07:48.690159Z",
          "start_time": "2020-01-17T17:07:48.683239Z"
        },
        "colab": {
          "base_uri": "https://localhost:8080/"
        },
        "id": "pJoagTW8lFs3",
        "outputId": "c6899090-68a9-4f76-b528-655f422ace82"
      },
      "outputs": [
        {
          "output_type": "stream",
          "name": "stdout",
          "text": [
            "Sequential(\n",
            "  (conv_1): Conv1d(1, 32, kernel_size=(3,), stride=(1,), padding=(1,))\n",
            "  (max_pool_1): MaxPool1d(kernel_size=2, stride=2, padding=0, dilation=1, ceil_mode=False)\n",
            "  (relu_1): ReLU()\n",
            "  (flatten): Flatten()\n",
            "  (fc_1): Linear(in_features=384, out_features=50, bias=True)\n",
            "  (relu_2): ReLU()\n",
            "  (dropout_1): Dropout(p=0.4, inplace=False)\n",
            "  (fc_2): Linear(in_features=50, out_features=1, bias=True)\n",
            ")\n"
          ]
        }
      ],
      "source": [
        "class Flatten(nn.Module):\n",
        "    def forward(self, x):\n",
        "        return x.view(x.size()[0], -1)\n",
        "\n",
        "model = nn.Sequential(OrderedDict([\n",
        "    ('conv_1', nn.Conv1d(1, 32, 3, padding=1)),\n",
        "    ('max_pool_1', nn.MaxPool1d(2)),\n",
        "    ('relu_1', nn.ReLU()),\n",
        "    ('flatten', Flatten()),\n",
        "    ('fc_1', nn.Linear(384, 50)),\n",
        "    ('relu_2', nn.ReLU()),\n",
        "    ('dropout_1', nn.Dropout(0.4)),\n",
        "    ('fc_2', nn.Linear(50, 1))\n",
        "]))\n",
        "\n",
        "print(model)"
      ]
    },
    {
      "cell_type": "markdown",
      "metadata": {
        "id": "yaqvB3jOlFs4"
      },
      "source": [
        "8. Instantiate the model, the loss function and the optimizer:"
      ]
    },
    {
      "cell_type": "code",
      "execution_count": 12,
      "metadata": {
        "ExecuteTime": {
          "end_time": "2020-01-17T17:07:52.070258Z",
          "start_time": "2020-01-17T17:07:52.066477Z"
        },
        "id": "7_dj7AK0lFs4"
      },
      "outputs": [],
      "source": [
        "model = model.to(device)\n",
        "loss_fn = nn.MSELoss()\n",
        "optimizer = optim.Adam(model.parameters(), lr=0.001)"
      ]
    },
    {
      "cell_type": "markdown",
      "metadata": {
        "id": "0s6ZQC3BlFs9"
      },
      "source": [
        "9. Train the network:"
      ]
    },
    {
      "cell_type": "code",
      "execution_count": 13,
      "metadata": {
        "ExecuteTime": {
          "end_time": "2020-01-17T17:10:11.136540Z",
          "start_time": "2020-01-17T17:07:54.063960Z"
        },
        "colab": {
          "base_uri": "https://localhost:8080/"
        },
        "id": "M63OI6YulFs_",
        "outputId": "37d65d93-296e-4653-90be-675e73bb906f"
      },
      "outputs": [
        {
          "output_type": "stream",
          "name": "stdout",
          "text": [
            "<0> - Train. loss: 79.985319 \t Valid. loss: 39.671127\n",
            "<50> - Train. loss: 27.586006 \t Valid. loss: 31.458680\n",
            "<100> - Train. loss: 26.971315 \t Valid. loss: 54.028533\n",
            "<150> - Train. loss: 35.995488 \t Valid. loss: 27.894776\n",
            "<200> - Train. loss: 22.305133 \t Valid. loss: 34.094565\n",
            "<250> - Train. loss: 22.052221 \t Valid. loss: 28.262883\n",
            "<300> - Train. loss: 23.163278 \t Valid. loss: 41.092534\n",
            "<350> - Train. loss: 24.305345 \t Valid. loss: 39.403953\n",
            "<400> - Train. loss: 28.610216 \t Valid. loss: 40.263292\n",
            "<450> - Train. loss: 19.111299 \t Valid. loss: 39.113187\n",
            "<500> - Train. loss: 29.174816 \t Valid. loss: 51.197198\n",
            "<550> - Train. loss: 24.363712 \t Valid. loss: 32.773256\n",
            "<600> - Train. loss: 27.789935 \t Valid. loss: 36.756815\n",
            "<650> - Train. loss: 16.190232 \t Valid. loss: 26.305449\n",
            "<700> - Train. loss: 24.946242 \t Valid. loss: 31.255724\n",
            "<750> - Train. loss: 21.779010 \t Valid. loss: 29.632657\n",
            "<800> - Train. loss: 24.217838 \t Valid. loss: 31.488806\n",
            "<850> - Train. loss: 21.456615 \t Valid. loss: 33.384900\n",
            "<900> - Train. loss: 22.083472 \t Valid. loss: 32.659810\n",
            "<950> - Train. loss: 20.544811 \t Valid. loss: 29.102800\n",
            "<1000> - Train. loss: 19.226191 \t Valid. loss: 34.794479\n",
            "<1050> - Train. loss: 18.296466 \t Valid. loss: 30.355084\n",
            "<1100> - Train. loss: 19.773901 \t Valid. loss: 29.715576\n",
            "<1150> - Train. loss: 21.363321 \t Valid. loss: 33.356094\n",
            "<1200> - Train. loss: 20.660248 \t Valid. loss: 44.128590\n",
            "<1250> - Train. loss: 25.403078 \t Valid. loss: 30.643766\n",
            "<1300> - Train. loss: 27.274448 \t Valid. loss: 26.680899\n",
            "<1350> - Train. loss: 25.734513 \t Valid. loss: 27.605184\n",
            "<1400> - Train. loss: 23.411698 \t Valid. loss: 28.473582\n",
            "<1450> - Train. loss: 20.643710 \t Valid. loss: 29.836407\n",
            "<1500> - Train. loss: 22.281126 \t Valid. loss: 25.334714\n",
            "<1550> - Train. loss: 20.912522 \t Valid. loss: 27.378217\n",
            "<1600> - Train. loss: 20.172666 \t Valid. loss: 27.910761\n",
            "<1650> - Train. loss: 19.900105 \t Valid. loss: 28.056636\n",
            "<1700> - Train. loss: 18.123652 \t Valid. loss: 32.531983\n",
            "<1750> - Train. loss: 24.532346 \t Valid. loss: 40.683169\n",
            "<1800> - Train. loss: 22.636527 \t Valid. loss: 34.881155\n",
            "<1850> - Train. loss: 23.789655 \t Valid. loss: 29.378698\n",
            "<1900> - Train. loss: 20.188013 \t Valid. loss: 26.597578\n",
            "<1950> - Train. loss: 18.249575 \t Valid. loss: 29.065849\n",
            "Lowest loss recorded in epoch: 613\n"
          ]
        }
      ],
      "source": [
        "PRINT_EVERY = 50\n",
        "N_EPOCHS = 2000\n",
        "\n",
        "train_losses, valid_losses = [], []\n",
        "\n",
        "for epoch in range(N_EPOCHS):\n",
        "    running_loss_train = 0\n",
        "    running_loss_valid = 0\n",
        "\n",
        "    model.train()\n",
        "    \n",
        "    for x_batch, y_batch in train_loader:\n",
        "        \n",
        "        optimizer.zero_grad()\n",
        "        \n",
        "        x_batch = x_batch.to(device)\n",
        "        x_batch = x_batch.view(x_batch.shape[0], 1, N_LAGS)\n",
        "        y_batch = y_batch.to(device)\n",
        "        y_batch = y_batch.view(y_batch.shape[0], 1, 1)\n",
        "        y_hat = model(x_batch).view(y_batch.shape[0], 1, 1)\n",
        "        loss = torch.sqrt(loss_fn(y_batch, y_hat))\n",
        "        loss.backward()\n",
        "        optimizer.step()\n",
        "        running_loss_train += loss.item() * x_batch.size(0)\n",
        "        \n",
        "    epoch_loss_train = running_loss_train / len(train_loader.dataset)\n",
        "    train_losses.append(epoch_loss_train)\n",
        "\n",
        "    with torch.no_grad():\n",
        "        model.eval()\n",
        "        for x_val, y_val in valid_loader:\n",
        "            x_val = x_val.to(device)\n",
        "            x_val = x_val.view(x_val.shape[0], 1, N_LAGS)\n",
        "            y_val = y_val.to(device)\n",
        "            y_val = y_val.view(y_val.shape[0], 1, 1)\n",
        "            y_hat = model(x_val).view(y_val.shape[0], 1, 1)\n",
        "            loss = torch.sqrt(loss_fn(y_val, y_hat))\n",
        "            running_loss_valid += loss.item() * x_val.size(0)\n",
        "            \n",
        "        epoch_loss_valid = running_loss_valid / len(valid_loader.dataset)\n",
        "            \n",
        "        if epoch > 0 and epoch_loss_valid < min(valid_losses):\n",
        "            best_epoch = epoch\n",
        "            torch.save(model.state_dict(), './cnn_checkpoint.pth')\n",
        "            \n",
        "        valid_losses.append(epoch_loss_valid)\n",
        "\n",
        "    if epoch % PRINT_EVERY == 0:\n",
        "        print(f\"<{epoch}> - Train. loss: {epoch_loss_train:.6f} \\t Valid. loss: {epoch_loss_valid:.6f}\")\n",
        "        \n",
        "print(f'Lowest loss recorded in epoch: {best_epoch}')"
      ]
    },
    {
      "cell_type": "markdown",
      "metadata": {
        "id": "OShJBpuclFtB"
      },
      "source": [
        "10. Plot the losses over epochs:"
      ]
    },
    {
      "cell_type": "code",
      "execution_count": 14,
      "metadata": {
        "ExecuteTime": {
          "end_time": "2020-01-17T17:11:56.198228Z",
          "start_time": "2020-01-17T17:11:49.580779Z"
        },
        "colab": {
          "base_uri": "https://localhost:8080/",
          "height": 295
        },
        "id": "r4xgFcC3lFtB",
        "outputId": "ab8e6d51-5b2d-456f-82e9-99121c5fb5ab"
      },
      "outputs": [
        {
          "output_type": "display_data",
          "data": {
            "text/plain": [
              "<Figure size 432x288 with 1 Axes>"
            ],
            "image/png": "[encoded data removed]"
          },
          "metadata": {
            "needs_background": "light"
          }
        }
      ],
      "source": [
        "import matplotlib.pyplot as plt\n",
        "\n",
        "train_losses = np.array(train_losses)\n",
        "valid_losses = np.array(valid_losses)\n",
        "\n",
        "fig, ax = plt.subplots()\n",
        "\n",
        "ax.plot(train_losses, color='blue', label='Training loss')\n",
        "ax.plot(valid_losses, color='red', label='Validation loss')\n",
        "\n",
        "ax.set(title=\"Loss over epochs\", \n",
        "       xlabel='Epoch', \n",
        "       ylabel='Loss')\n",
        "ax.legend()\n",
        "plt.show()"
      ]
    },
    {
      "cell_type": "markdown",
      "metadata": {
        "id": "s7P2TugalFtD"
      },
      "source": [
        "12. Obtain the predictions:"
      ]
    },
    {
      "cell_type": "code",
      "execution_count": 15,
      "metadata": {
        "ExecuteTime": {
          "end_time": "2020-01-17T17:12:32.944983Z",
          "start_time": "2020-01-17T17:12:32.936762Z"
        },
        "id": "iQVbXVTKlFtE"
      },
      "outputs": [],
      "source": [
        "y_pred, y_valid = [], []\n",
        "\n",
        "with torch.no_grad():\n",
        "    \n",
        "    model.eval()\n",
        "        \n",
        "    for x_val, y_val in valid_loader:\n",
        "        x_val = x_val.to(device)\n",
        "        x_val = x_val.view(x_val.shape[0], 1, N_LAGS)\n",
        "        y_pred.append(model(x_val))\n",
        "        y_valid.append(y_val)\n",
        "        \n",
        "y_pred = torch.cat(y_pred).numpy().flatten()\n",
        "y_valid = torch.cat(y_valid).numpy().flatten()"
      ]
    },
    {
      "cell_type": "markdown",
      "metadata": {
        "id": "BQGtKUFtlFtG"
      },
      "source": [
        "13. Evaluate the predictions:"
      ]
    },
    {
      "cell_type": "code",
      "execution_count": 16,
      "metadata": {
        "ExecuteTime": {
          "end_time": "2020-01-17T17:13:08.958939Z",
          "start_time": "2020-01-17T17:13:03.058030Z"
        },
        "scrolled": false,
        "colab": {
          "base_uri": "https://localhost:8080/",
          "height": 312
        },
        "id": "rf7uqSWFlFtH",
        "outputId": "9f639191-a158-49f7-cfbb-567c7979dbf7"
      },
      "outputs": [
        {
          "output_type": "stream",
          "name": "stdout",
          "text": [
            "CNN's forecast - MSE: 2114.74, RMSE: 45.99\n"
          ]
        },
        {
          "output_type": "display_data",
          "data": {
            "text/plain": [
              "<Figure size 432x288 with 1 Axes>"
            ],
            "image/png": "[encoded data removed]"
          },
          "metadata": {
            "needs_background": "light"
          }
        }
      ],
      "source": [
        "cnn_mse = mean_squared_error(y_valid, y_pred)\n",
        "cnn_rmse = np.sqrt(cnn_mse)\n",
        "print(f\"CNN's forecast - MSE: {cnn_mse:.2f}, RMSE: {cnn_rmse:.2f}\")\n",
        "\n",
        "fig, ax = plt.subplots()\n",
        "\n",
        "ax.plot(y_valid, color='blue', label='Actual')\n",
        "ax.plot(y_pred, color='red', label='Prediction')\n",
        "#ax.plot(naive_pred, color='green', label='Naïve')\n",
        "\n",
        "ax.set(title=\"CNN's Forecasts\", \n",
        "       xlabel='Time', \n",
        "       ylabel='Price ($)')\n",
        "ax.legend()\n",
        "\n",
        "# plt.tight_layout()\n",
        "# plt.savefig('images/ch10_im12.png')\n",
        "plt.show()"
      ]
    }
  ],
  "metadata": {
    "kernelspec": {
      "display_name": "Python 3",
      "language": "python",
      "name": "python3"
    },
    "language_info": {
      "codemirror_mode": {
        "name": "ipython",
        "version": 3
      },
      "file_extension": ".py",
      "mimetype": "text/x-python",
      "name": "python",
      "nbconvert_exporter": "python",
      "pygments_lexer": "ipython3",
      "version": "3.7.3"
    },
    "toc": {
      "base_numbering": 1,
      "nav_menu": {},
      "number_sections": true,
      "sideBar": true,
      "skip_h1_title": false,
      "title_cell": "Table of Contents",
      "title_sidebar": "Contents",
      "toc_cell": false,
      "toc_position": {
        "height": "calc(100% - 180px)",
        "left": "10px",
        "top": "150px",
        "width": "336px"
      },
      "toc_section_display": true,
      "toc_window_display": true
    },
    "varInspector": {
      "cols": {
        "lenName": 16,
        "lenType": 16,
        "lenVar": 40
      },
      "kernels_config": {
        "python": {
          "delete_cmd_postfix": "",
          "delete_cmd_prefix": "del ",
          "library": "var_list.py",
          "varRefreshCmd": "print(var_dic_list())"
        },
        "r": {
          "delete_cmd_postfix": ") ",
          "delete_cmd_prefix": "rm(",
          "library": "var_list.r",
          "varRefreshCmd": "cat(var_dic_list()) "
        }
      },
      "types_to_exclude": [
        "module",
        "function",
        "builtin_function_or_method",
        "instance",
        "_Feature"
      ],
      "window_display": false
    },
    "colab": {
      "name": "CNN_freelancer (2).ipynb",
      "provenance": [],
      "collapsed_sections": [],
      "include_colab_link": true
    }
  },
  "nbformat": 4,
  "nbformat_minor": 0
}