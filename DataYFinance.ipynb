{
  "nbformat": 4,
  "nbformat_minor": 0,
  "metadata": {
    "colab": {
      "name": "DataYFinance.ipynb",
      "provenance": [],
      "collapsed_sections": [],
      "mount_file_id": "1NBdMoUe-YYqxRM0sEDdnoMK5_q5YlWq1",
      "authorship_tag": "ABX9TyOFHc1hMz9fsdHC0uxIYmpr",
      "include_colab_link": true
    },
    "kernelspec": {
      "name": "python3",
      "display_name": "Python 3"
    },
    "language_info": {
      "name": "python"
    }
  },
  "cells": [
    {
      "cell_type": "markdown",
      "metadata": {
        "id": "view-in-github",
        "colab_type": "text"
      },
      "source": [
        "<a href=\"https://colab.research.google.com/github/guerrac2001/Colab-Notebooks/blob/main/DataYFinance.ipynb\" target=\"_parent\"><img src=\"https://colab.research.google.com/assets/colab-badge.svg\" alt=\"Open In Colab\"/></a>"
      ]
    },
    {
      "cell_type": "markdown",
      "source": [
        "Permitir a Colab trabajar desde drive"
      ],
      "metadata": {
        "id": "NyyiA5fsADhW"
      }
    },
    {
      "cell_type": "code",
      "source": [
        "from google.colab import drive\n",
        "drive.mount('/content/drive')"
      ],
      "metadata": {
        "id": "MCiwCCfUBYsT"
      },
      "execution_count": null,
      "outputs": []
    },
    {
      "cell_type": "markdown",
      "source": [
        "Instalar Yahoo Finance para obtener los datos"
      ],
      "metadata": {
        "id": "e1jj3I04AJ8B"
      }
    },
    {
      "cell_type": "code",
      "execution_count": null,
      "metadata": {
        "id": "-5JE7Rmy7dY9"
      },
      "outputs": [],
      "source": [
        "pip install yfinance"
      ]
    },
    {
      "cell_type": "markdown",
      "source": [
        "Instalar Torch y numpy"
      ],
      "metadata": {
        "id": "oV3AtTtaAP0q"
      }
    },
    {
      "cell_type": "code",
      "source": [
        "pip install torch"
      ],
      "metadata": {
        "id": "3KYmn_mbIFQs",
        "outputId": "3295c014-5370-47dd-931c-a9d33aa19d22",
        "colab": {
          "base_uri": "https://localhost:8080/"
        }
      },
      "execution_count": 4,
      "outputs": [
        {
          "output_type": "stream",
          "name": "stdout",
          "text": [
            "Looking in indexes: https://pypi.org/simple, https://us-python.pkg.dev/colab-wheels/public/simple/\n",
            "Requirement already satisfied: torch in /usr/local/lib/python3.7/dist-packages (1.11.0+cu113)\n",
            "Requirement already satisfied: typing-extensions in /usr/local/lib/python3.7/dist-packages (from torch) (4.1.1)\n"
          ]
        }
      ]
    },
    {
      "cell_type": "markdown",
      "source": [
        "Obtener los precios desde una fecha de inicio hasta el día de hoy"
      ],
      "metadata": {
        "id": "Yv9m7QmoAkaY"
      }
    },
    {
      "cell_type": "code",
      "source": [
        "import yfinance as yahooFinance\n",
        "import datetime\n",
        "starDate = datetime.datetime (2018, 1, 1)\n",
        "endDate = datetime.datetime.now()\n",
        "VALID_START = datetime.datetime (2019,12,31)\n",
        "dataM = yahooFinance.download(\"GOOG\",start = starDate, end=endDate, interval = \"1mo\", auto_adjust = True)\n",
        "valid_size = dataM.loc[VALID_START:endDate].shape[0]\n",
        "\n",
        "print (dataM)"
      ],
      "metadata": {
        "colab": {
          "base_uri": "https://localhost:8080/"
        },
        "id": "oSnYiYAL8IgX",
        "outputId": "d98efeec-b4b5-4952-a1bc-47c5763447ba"
      },
      "execution_count": 5,
      "outputs": [
        {
          "output_type": "stream",
          "name": "stdout",
          "text": [
            "\r[*********************100%***********************]  1 of 1 completed\n",
            "                   Open         High          Low        Close    Volume\n",
            "Date                                                                    \n",
            "2018-01-01  1048.339966  1186.890015  1045.229980  1169.939941  28738400\n",
            "2018-02-01  1162.609985  1174.000000   992.559998  1104.729980  42382000\n",
            "2018-03-01  1107.869995  1177.050049   980.640015  1031.790039  45353300\n",
            "2018-04-01  1022.820007  1094.165039   990.369995  1017.330017  41715900\n",
            "2018-05-01  1013.659973  1110.750000  1006.289978  1084.989990  31849400\n",
            "2018-06-01  1099.349976  1186.286011  1096.010010  1115.650024  32096000\n",
            "2018-07-01  1099.000000  1273.890015  1093.800049  1217.260010  31940100\n",
            "2018-08-01  1228.000000  1256.500000  1188.239990  1218.189941  28808400\n",
            "2018-09-01  1204.270020  1212.989990  1146.910034  1193.469971  28862400\n",
            "2018-10-01  1199.890015  1209.959961   995.830017  1076.770020  48494700\n",
            "2018-11-01  1075.800049  1095.569946   996.020020  1094.430054  36735100\n",
            "2018-12-01  1123.140015  1124.650024   970.109985  1035.609985  40257600\n",
            "2019-01-01  1016.570007  1117.329956  1014.070007  1116.369995  30714000\n",
            "2019-02-01  1112.400024  1147.000000  1086.000000  1119.920044  28932700\n",
            "2019-03-01  1124.900024  1231.790039  1123.300049  1173.310059  31609300\n",
            "2019-04-01  1184.099976  1289.270020  1175.000000  1188.479980  27855200\n",
            "2019-05-01  1188.050049  1190.849976  1100.180054  1103.630005  33317400\n",
            "2019-06-01  1065.500000  1124.109985  1025.000000  1080.910034  34096800\n",
            "2019-07-01  1098.000000  1265.550049  1093.703003  1216.680054  32948600\n",
            "2019-08-01  1214.030029  1234.109985  1140.140015  1188.099976  28882400\n",
            "2019-09-01  1177.030029  1248.300049  1163.199951  1219.000000  26899400\n",
            "2019-10-01  1219.000000  1299.310059  1162.430054  1260.109985  28758300\n",
            "2019-11-01  1265.000000  1335.529053  1260.500000  1304.959961  24923700\n",
            "2019-12-01  1301.000000  1365.000000  1279.000000  1337.020020  27357100\n",
            "2020-01-01  1341.550049  1503.213989  1341.550049  1434.229980  33691600\n",
            "2020-02-01  1462.000000  1532.105957  1271.000000  1339.329956  37080600\n",
            "2020-03-01  1351.609985  1410.150024  1013.536011  1162.810059  71392100\n",
            "2020-04-01  1122.000000  1359.989990  1079.810059  1348.660034  46335100\n",
            "2020-05-01  1328.500000  1441.000000  1299.000000  1428.920044  31866300\n",
            "2020-06-01  1418.390015  1475.941040  1347.010010  1413.609985  38828400\n",
            "2020-07-01  1411.099976  1586.989990  1409.819946  1482.959961  35247000\n",
            "2020-08-01  1486.640015  1659.219971  1458.650024  1634.180054  37830900\n",
            "2020-09-01  1636.630005  1733.180054  1406.550049  1469.599976  40567600\n",
            "2020-10-01  1484.270020  1687.000000  1436.000000  1621.010010  39254200\n",
            "2020-11-01  1628.160034  1818.060059  1616.030029  1760.739990  35035400\n",
            "2020-12-01  1774.369995  1847.199951  1699.000000  1751.880005  31465900\n",
            "2021-01-01  1757.540039  1934.859985  1699.000000  1835.739990  33082700\n",
            "2021-02-01  1853.569946  2152.679932  1850.930054  2036.859985  29429000\n",
            "2021-03-01  2056.520020  2128.810059  2010.000000  2068.629883  34794200\n",
            "2021-04-01  2097.949951  2452.377930  2096.889893  2410.120117  30724700\n",
            "2021-05-01  2402.719971  2442.944092  2230.050049  2411.560059  25455700\n",
            "2021-06-01  2422.000000  2555.919922  2382.830078  2506.320068  27432800\n",
            "2021-07-01  2496.995117  2800.219971  2496.995117  2704.419922  22838800\n",
            "2021-08-01  2709.689941  2929.790039  2683.669922  2909.239990  18615600\n",
            "2021-09-01  2913.000000  2936.409912  2660.000000  2665.310059  25259900\n",
            "2021-10-01  2671.090088  2982.360107  2623.330078  2965.409912  24828600\n",
            "2021-11-01  2963.300049  3037.000000  2841.320068  2849.040039  22158600\n",
            "2021-12-01  2884.250000  2992.100098  2805.000000  2893.590088  23963000\n",
            "2022-01-01  2889.510010  2932.199951  2492.839111  2713.969971  30775500\n",
            "2022-02-01  2756.699951  3042.000000  2495.290039  2697.820068  36632500\n",
            "2022-03-01  2689.600098  2883.250000  2517.215088  2792.989990  31871000\n",
            "2022-04-01  2800.199951  2880.875000  2262.485107  2299.330078  28247000\n",
            "2022-05-01  2278.129883  2462.860107  2044.160034  2280.780029  35874300\n",
            "2022-06-01  2298.629883  2387.969971  2112.571045  2187.449951  31342900\n",
            "2022-07-01  2166.739990  2196.126953  2142.100098  2181.620117   1550600\n"
          ]
        }
      ]
    },
    {
      "cell_type": "markdown",
      "source": [
        "Obtener los precios de cierre mensuales de la acción "
      ],
      "metadata": {
        "id": "-i8WxekAAuVt"
      }
    },
    {
      "cell_type": "code",
      "source": [
        "PreciosCierre = dataM['Close'].values\n",
        "print(PreciosCierre)"
      ],
      "metadata": {
        "id": "dFgmB66qBoOG",
        "colab": {
          "base_uri": "https://localhost:8080/"
        },
        "outputId": "c5953c41-3e59-42bd-ff9a-c85c5947a3cc"
      },
      "execution_count": 6,
      "outputs": [
        {
          "output_type": "stream",
          "name": "stdout",
          "text": [
            "[1169.93994141 1104.72998047 1031.79003906 1017.33001709 1084.98999023\n",
            " 1115.65002441 1217.26000977 1218.18994141 1193.4699707  1076.77001953\n",
            " 1094.43005371 1035.60998535 1116.36999512 1119.92004395 1173.31005859\n",
            " 1188.47998047 1103.63000488 1080.91003418 1216.68005371 1188.09997559\n",
            " 1219.         1260.10998535 1304.95996094 1337.02001953 1434.22998047\n",
            " 1339.32995605 1162.81005859 1348.66003418 1428.92004395 1413.60998535\n",
            " 1482.95996094 1634.18005371 1469.59997559 1621.01000977 1760.73999023\n",
            " 1751.88000488 1835.73999023 2036.85998535 2068.62988281 2410.12011719\n",
            " 2411.56005859 2506.32006836 2704.41992188 2909.23999023 2665.31005859\n",
            " 2965.40991211 2849.04003906 2893.59008789 2713.9699707  2697.82006836\n",
            " 2792.98999023 2299.33007812 2280.7800293  2187.44995117 2181.62011719]\n"
          ]
        }
      ]
    },
    {
      "cell_type": "markdown",
      "source": [
        "Permitir que los archivos en drive trabajen dentro de colab"
      ],
      "metadata": {
        "id": "ZkcE9C4FA5aG"
      }
    },
    {
      "cell_type": "code",
      "source": [
        "%cd /content/drive/MyDrive/Colab Notebooks/"
      ],
      "metadata": {
        "colab": {
          "base_uri": "https://localhost:8080/"
        },
        "id": "ckvw4H84CCY1",
        "outputId": "9a8f4e14-d8c5-4716-8a8c-7825dbe654b4"
      },
      "execution_count": 7,
      "outputs": [
        {
          "output_type": "stream",
          "name": "stdout",
          "text": [
            "/content/drive/MyDrive/Colab Notebooks\n"
          ]
        }
      ]
    },
    {
      "cell_type": "markdown",
      "source": [
        "Importar herramientas de Torch"
      ],
      "metadata": {
        "id": "XSEsMOWR7QM8"
      }
    },
    {
      "cell_type": "code",
      "source": [
        "import torch\n",
        "import torch.optim as optim\n",
        "import torch.nn as nn\n",
        "from torch.utils.data import (Dataset, TensorDataset,\n",
        " DataLoader, Subset)\n",
        "import numpy as np\n",
        "import os\n",
        "import random"
      ],
      "metadata": {
        "id": "8RxjnNBU_PBw"
      },
      "execution_count": 8,
      "outputs": []
    },
    {
      "cell_type": "markdown",
      "source": [
        "Importar el método para convertir los precios de las acciones en un arreglo usando numpy"
      ],
      "metadata": {
        "id": "CcW6caV6BYoq"
      }
    },
    {
      "cell_type": "code",
      "source": [
        "import datacnn"
      ],
      "metadata": {
        "id": "SgjQ5AHgAcHV"
      },
      "execution_count": 9,
      "outputs": []
    },
    {
      "cell_type": "markdown",
      "source": [
        "Creación de datos en arreglos / convertir en tensores"
      ],
      "metadata": {
        "id": "JZGMGxBSBfGV"
      }
    },
    {
      "cell_type": "code",
      "source": [
        "from datacnn import crear_data_entrada\n",
        "\n",
        "x, y= crear_data_entrada (PreciosCierre, 1)\n",
        "\n",
        "x_tensor = torch.from_numpy(x).float()\n",
        "y_tensor = torch.from_numpy(y).float().unsqueeze(dim=1)\n",
        "\n",
        "print (x_tensor)\n",
        "print (x_tensor.shape)\n",
        "print (y_tensor)\n",
        "print (y_tensor.shape)"
      ],
      "metadata": {
        "id": "NGHgRm4tMeNE",
        "colab": {
          "base_uri": "https://localhost:8080/"
        },
        "outputId": "8129e6c6-8c18-4f10-fcaf-f928c17e05d6"
      },
      "execution_count": 10,
      "outputs": [
        {
          "output_type": "stream",
          "name": "stdout",
          "text": [
            "tensor([[1169.9399],\n",
            "        [1104.7300],\n",
            "        [1031.7900],\n",
            "        [1017.3300],\n",
            "        [1084.9900],\n",
            "        [1115.6500],\n",
            "        [1217.2600],\n",
            "        [1218.1899],\n",
            "        [1193.4700],\n",
            "        [1076.7700],\n",
            "        [1094.4301],\n",
            "        [1035.6100],\n",
            "        [1116.3700],\n",
            "        [1119.9200],\n",
            "        [1173.3101],\n",
            "        [1188.4800],\n",
            "        [1103.6300],\n",
            "        [1080.9100],\n",
            "        [1216.6801],\n",
            "        [1188.1000],\n",
            "        [1219.0000],\n",
            "        [1260.1100],\n",
            "        [1304.9600],\n",
            "        [1337.0200],\n",
            "        [1434.2300],\n",
            "        [1339.3300],\n",
            "        [1162.8101],\n",
            "        [1348.6600],\n",
            "        [1428.9200],\n",
            "        [1413.6100],\n",
            "        [1482.9600],\n",
            "        [1634.1801],\n",
            "        [1469.6000],\n",
            "        [1621.0100],\n",
            "        [1760.7400],\n",
            "        [1751.8800],\n",
            "        [1835.7400],\n",
            "        [2036.8600],\n",
            "        [2068.6299],\n",
            "        [2410.1201],\n",
            "        [2411.5601],\n",
            "        [2506.3201],\n",
            "        [2704.4199],\n",
            "        [2909.2400],\n",
            "        [2665.3101],\n",
            "        [2965.4099],\n",
            "        [2849.0400],\n",
            "        [2893.5901],\n",
            "        [2713.9700],\n",
            "        [2697.8201],\n",
            "        [2792.9900],\n",
            "        [2299.3301],\n",
            "        [2280.7800],\n",
            "        [2187.4500]])\n",
            "torch.Size([54, 1])\n",
            "tensor([[1104.7300],\n",
            "        [1031.7900],\n",
            "        [1017.3300],\n",
            "        [1084.9900],\n",
            "        [1115.6500],\n",
            "        [1217.2600],\n",
            "        [1218.1899],\n",
            "        [1193.4700],\n",
            "        [1076.7700],\n",
            "        [1094.4301],\n",
            "        [1035.6100],\n",
            "        [1116.3700],\n",
            "        [1119.9200],\n",
            "        [1173.3101],\n",
            "        [1188.4800],\n",
            "        [1103.6300],\n",
            "        [1080.9100],\n",
            "        [1216.6801],\n",
            "        [1188.1000],\n",
            "        [1219.0000],\n",
            "        [1260.1100],\n",
            "        [1304.9600],\n",
            "        [1337.0200],\n",
            "        [1434.2300],\n",
            "        [1339.3300],\n",
            "        [1162.8101],\n",
            "        [1348.6600],\n",
            "        [1428.9200],\n",
            "        [1413.6100],\n",
            "        [1482.9600],\n",
            "        [1634.1801],\n",
            "        [1469.6000],\n",
            "        [1621.0100],\n",
            "        [1760.7400],\n",
            "        [1751.8800],\n",
            "        [1835.7400],\n",
            "        [2036.8600],\n",
            "        [2068.6299],\n",
            "        [2410.1201],\n",
            "        [2411.5601],\n",
            "        [2506.3201],\n",
            "        [2704.4199],\n",
            "        [2909.2400],\n",
            "        [2665.3101],\n",
            "        [2965.4099],\n",
            "        [2849.0400],\n",
            "        [2893.5901],\n",
            "        [2713.9700],\n",
            "        [2697.8201],\n",
            "        [2792.9900],\n",
            "        [2299.3301],\n",
            "        [2280.7800],\n",
            "        [2187.4500],\n",
            "        [2181.6201]])\n",
            "torch.Size([54, 1])\n"
          ]
        }
      ]
    },
    {
      "cell_type": "markdown",
      "source": [
        "Crear dataset para aprendisaje y entrenamiento de red"
      ],
      "metadata": {
        "id": "Bq5fodsy646D"
      }
    },
    {
      "cell_type": "code",
      "source": [
        "BATCH_SIZE= 5\n",
        "\n",
        "dataset = TensorDataset(x_tensor, y_tensor)\n",
        "valid_ind = len (x) - valid_size\n",
        "\n",
        "train_dataset = Subset(dataset, list(range(valid_ind)))\n",
        "valid_dataset = Subset(dataset, list(range(valid_ind, len(x))))\n",
        "\n",
        "train_loader = DataLoader(dataset=train_dataset,\n",
        "                          batch_size=BATCH_SIZE)\n",
        "valid_loader = DataLoader(dataset=valid_dataset, \n",
        "                          batch_size=BATCH_SIZE)\n"
      ],
      "metadata": {
        "id": "zXjdXXElelWp"
      },
      "execution_count": 12,
      "outputs": []
    }
  ]
}