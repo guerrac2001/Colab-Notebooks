{
  "nbformat": 4,
  "nbformat_minor": 0,
  "metadata": {
    "colab": {
      "name": "DataYFinance.ipynb",
      "provenance": [],
      "collapsed_sections": [],
      "mount_file_id": "1NBdMoUe-YYqxRM0sEDdnoMK5_q5YlWq1",
      "authorship_tag": "ABX9TyNgunwswIydwhQq2iASsQKQ",
      "include_colab_link": true
    },
    "kernelspec": {
      "name": "python3",
      "display_name": "Python 3"
    },
    "language_info": {
      "name": "python"
    }
  },
  "cells": [
    {
      "cell_type": "markdown",
      "metadata": {
        "id": "view-in-github",
        "colab_type": "text"
      },
      "source": [
        "<a href=\"https://colab.research.google.com/github/guerrac2001/Colab-Notebooks/blob/main/DataYFinance.ipynb\" target=\"_parent\"><img src=\"https://colab.research.google.com/assets/colab-badge.svg\" alt=\"Open In Colab\"/></a>"
      ]
    },
    {
      "cell_type": "code",
      "source": [
        "from google.colab import drive\n",
        "drive.mount('/content/drive')"
      ],
      "metadata": {
        "id": "MCiwCCfUBYsT"
      },
      "execution_count": null,
      "outputs": []
    },
    {
      "cell_type": "code",
      "execution_count": null,
      "metadata": {
        "id": "-5JE7Rmy7dY9"
      },
      "outputs": [],
      "source": [
        "pip install yfinance\n"
      ]
    },
    {
      "cell_type": "code",
      "source": [
        "import torch\n",
        "import torch.optim as optim\n",
        "import torch.nn as nn\n",
        "from torch.utils.data import (Dataset, TensorDataset,\n",
        " DataLoader, Subset)\n",
        "import numpy as np\n",
        "import os\n",
        "import random"
      ],
      "metadata": {
        "id": "8RxjnNBU_PBw"
      },
      "execution_count": 3,
      "outputs": []
    },
    {
      "cell_type": "code",
      "source": [
        "import numpy as np\n",
        "import yfinance as yahooFinance\n",
        "import datetime\n",
        "starDate = datetime.datetime (2014, 4, 1)\n",
        "endDate = datetime.datetime.now()\n",
        "dataM = yahooFinance.download(\"GOOG\",start = starDate, end=endDate, interval = \"1mo\", auto_adjust = True)\n",
        "print (dataM)"
      ],
      "metadata": {
        "id": "oSnYiYAL8IgX"
      },
      "execution_count": null,
      "outputs": []
    },
    {
      "cell_type": "code",
      "source": [
        "PreciosCierre = dataM['Close'].values\n",
        "print(PreciosCierre)"
      ],
      "metadata": {
        "id": "dFgmB66qBoOG"
      },
      "execution_count": null,
      "outputs": []
    },
    {
      "cell_type": "code",
      "source": [
        "%cd /content/drive/MyDrive/Colab Notebooks/"
      ],
      "metadata": {
        "colab": {
          "base_uri": "https://localhost:8080/"
        },
        "id": "ckvw4H84CCY1",
        "outputId": "1a722c2e-5ee7-484f-abe6-9dc135261f24"
      },
      "execution_count": 6,
      "outputs": [
        {
          "output_type": "stream",
          "name": "stdout",
          "text": [
            "/content/drive/MyDrive/Colab Notebooks\n"
          ]
        }
      ]
    },
    {
      "cell_type": "code",
      "source": [
        "import datacnn"
      ],
      "metadata": {
        "id": "SgjQ5AHgAcHV"
      },
      "execution_count": 7,
      "outputs": []
    },
    {
      "cell_type": "code",
      "source": [
        "from datacnn import crear_data_entrada\n",
        "\n",
        "x, y= crear_data_entrada (PreciosCierre)\n",
        "print (x)\n",
        "print (y)"
      ],
      "metadata": {
        "id": "NGHgRm4tMeNE",
        "colab": {
          "base_uri": "https://localhost:8080/"
        },
        "outputId": "cb3ef9ca-1d3b-457b-f2f3-83cbe521df77"
      },
      "execution_count": 9,
      "outputs": [
        {
          "output_type": "stream",
          "name": "stdout",
          "text": [
            "[[ 525.21801758]\n",
            " [ 558.35705566]\n",
            " [ 573.70489502]\n",
            " [ 570.03497314]\n",
            " [ 570.03497314]\n",
            " [ 575.7791748 ]\n",
            " [ 557.54925537]\n",
            " [ 540.34649658]\n",
            " [ 524.95874023]\n",
            " [ 533.05651855]\n",
            " [ 556.87109375]\n",
            " [ 546.49957275]\n",
            " [ 537.34002686]\n",
            " [          nan]\n",
            " [ 532.10998535]\n",
            " [ 520.51000977]\n",
            " [ 625.60998535]\n",
            " [ 618.25      ]\n",
            " [ 608.41998291]\n",
            " [ 710.80999756]\n",
            " [ 742.59997559]\n",
            " [ 758.88000488]\n",
            " [ 742.95001221]\n",
            " [ 697.77001953]\n",
            " [ 744.95001221]\n",
            " [ 693.01000977]\n",
            " [ 735.7199707 ]\n",
            " [ 692.09997559]\n",
            " [ 768.78997803]\n",
            " [ 767.04998779]\n",
            " [ 777.28997803]\n",
            " [ 784.53997803]\n",
            " [ 758.03997803]\n",
            " [ 771.82000732]\n",
            " [ 796.78997803]\n",
            " [ 823.21002197]\n",
            " [ 829.55999756]\n",
            " [ 905.96002197]\n",
            " [ 964.85998535]\n",
            " [ 908.72998047]\n",
            " [ 930.5       ]\n",
            " [ 939.33001709]\n",
            " [ 959.10998535]\n",
            " [1016.64001465]\n",
            " [1021.40997314]\n",
            " [1046.40002441]\n",
            " [1169.93994141]\n",
            " [1104.72998047]\n",
            " [1031.79003906]\n",
            " [1017.33001709]\n",
            " [1084.98999023]\n",
            " [1115.65002441]\n",
            " [1217.26000977]\n",
            " [1218.18994141]\n",
            " [1193.4699707 ]\n",
            " [1076.77001953]\n",
            " [1094.43005371]\n",
            " [1035.60998535]\n",
            " [1116.36999512]\n",
            " [1119.92004395]\n",
            " [1173.31005859]\n",
            " [1188.47998047]\n",
            " [1103.63000488]\n",
            " [1080.91003418]\n",
            " [1216.68005371]\n",
            " [1188.09997559]\n",
            " [1219.        ]\n",
            " [1260.10998535]\n",
            " [1304.95996094]\n",
            " [1337.02001953]\n",
            " [1434.22998047]\n",
            " [1339.32995605]\n",
            " [1162.81005859]\n",
            " [1348.66003418]\n",
            " [1428.92004395]\n",
            " [1413.60998535]\n",
            " [1482.95996094]\n",
            " [1634.18005371]\n",
            " [1469.59997559]\n",
            " [1621.01000977]\n",
            " [1760.73999023]\n",
            " [1751.88000488]\n",
            " [1835.73999023]\n",
            " [2036.85998535]\n",
            " [2068.62988281]\n",
            " [2410.12011719]\n",
            " [2411.56005859]\n",
            " [2506.32006836]\n",
            " [2704.41992188]\n",
            " [2909.23999023]\n",
            " [2665.31005859]\n",
            " [2965.40991211]\n",
            " [2849.04003906]\n",
            " [2893.59008789]\n",
            " [2713.9699707 ]\n",
            " [2697.82006836]\n",
            " [2792.98999023]\n",
            " [2299.33007812]\n",
            " [2280.7800293 ]\n",
            " [2157.31005859]]\n",
            "[ 558.35705566  573.70489502  570.03497314  570.03497314  575.7791748\n",
            "  557.54925537  540.34649658  524.95874023  533.05651855  556.87109375\n",
            "  546.49957275  537.34002686           nan  532.10998535  520.51000977\n",
            "  625.60998535  618.25        608.41998291  710.80999756  742.59997559\n",
            "  758.88000488  742.95001221  697.77001953  744.95001221  693.01000977\n",
            "  735.7199707   692.09997559  768.78997803  767.04998779  777.28997803\n",
            "  784.53997803  758.03997803  771.82000732  796.78997803  823.21002197\n",
            "  829.55999756  905.96002197  964.85998535  908.72998047  930.5\n",
            "  939.33001709  959.10998535 1016.64001465 1021.40997314 1046.40002441\n",
            " 1169.93994141 1104.72998047 1031.79003906 1017.33001709 1084.98999023\n",
            " 1115.65002441 1217.26000977 1218.18994141 1193.4699707  1076.77001953\n",
            " 1094.43005371 1035.60998535 1116.36999512 1119.92004395 1173.31005859\n",
            " 1188.47998047 1103.63000488 1080.91003418 1216.68005371 1188.09997559\n",
            " 1219.         1260.10998535 1304.95996094 1337.02001953 1434.22998047\n",
            " 1339.32995605 1162.81005859 1348.66003418 1428.92004395 1413.60998535\n",
            " 1482.95996094 1634.18005371 1469.59997559 1621.01000977 1760.73999023\n",
            " 1751.88000488 1835.73999023 2036.85998535 2068.62988281 2410.12011719\n",
            " 2411.56005859 2506.32006836 2704.41992188 2909.23999023 2665.31005859\n",
            " 2965.40991211 2849.04003906 2893.59008789 2713.9699707  2697.82006836\n",
            " 2792.98999023 2299.33007812 2280.7800293  2157.31005859 2157.31005859]\n"
          ]
        }
      ]
    },
    {
      "cell_type": "code",
      "source": [
        "x_tensor = torch.from_numpy(x).float()\n",
        "y_tensor = torch.from_numpy(y).float().unsqueeze(dim=1)"
      ],
      "metadata": {
        "id": "8C09L73948CG"
      },
      "execution_count": null,
      "outputs": []
    }
  ]
}