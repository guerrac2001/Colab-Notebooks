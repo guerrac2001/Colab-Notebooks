{
  "nbformat": 4,
  "nbformat_minor": 0,
  "metadata": {
    "colab": {
      "name": "DataYFinance V3.ipynb",
      "provenance": [],
      "collapsed_sections": [],
      "mount_file_id": "1NBdMoUe-YYqxRM0sEDdnoMK5_q5YlWq1",
      "authorship_tag": "ABX9TyMWWpXr9LgBvcTRZB0qq336",
      "include_colab_link": true
    },
    "kernelspec": {
      "name": "python3",
      "display_name": "Python 3"
    },
    "language_info": {
      "name": "python"
    }
  },
  "cells": [
    {
      "cell_type": "markdown",
      "metadata": {
        "id": "view-in-github",
        "colab_type": "text"
      },
      "source": [
        "<a href=\"https://colab.research.google.com/github/guerrac2001/Colab-Notebooks/blob/main/DataYFinance_V3.ipynb\" target=\"_parent\"><img src=\"https://colab.research.google.com/assets/colab-badge.svg\" alt=\"Open In Colab\"/></a>"
      ]
    },
    {
      "cell_type": "markdown",
      "source": [
        "Permitir a Colab trabajar desde drive"
      ],
      "metadata": {
        "id": "NyyiA5fsADhW"
      }
    },
    {
      "cell_type": "code",
      "source": [
        "from google.colab import drive\n",
        "drive.mount('/content/drive')"
      ],
      "metadata": {
        "id": "MCiwCCfUBYsT",
        "colab": {
          "base_uri": "https://localhost:8080/"
        },
        "outputId": "13653d17-7f42-4433-8872-654f4a077244"
      },
      "execution_count": null,
      "outputs": [
        {
          "output_type": "stream",
          "name": "stdout",
          "text": [
            "Mounted at /content/drive\n"
          ]
        }
      ]
    },
    {
      "cell_type": "markdown",
      "source": [
        "Instalar Yahoo Finance para obtener los datos"
      ],
      "metadata": {
        "id": "e1jj3I04AJ8B"
      }
    },
    {
      "cell_type": "code",
      "execution_count": null,
      "metadata": {
        "id": "-5JE7Rmy7dY9",
        "colab": {
          "base_uri": "https://localhost:8080/"
        },
        "outputId": "56f5435f-ed20-4e4b-d473-c294fca1fb46"
      },
      "outputs": [
        {
          "output_type": "stream",
          "name": "stdout",
          "text": [
            "Looking in indexes: https://pypi.org/simple, https://us-python.pkg.dev/colab-wheels/public/simple/\n",
            "Collecting yfinance\n",
            "  Downloading yfinance-0.1.74-py2.py3-none-any.whl (27 kB)\n",
            "Requirement already satisfied: multitasking>=0.0.7 in /usr/local/lib/python3.7/dist-packages (from yfinance) (0.0.11)\n",
            "Collecting requests>=2.26\n",
            "  Downloading requests-2.28.1-py3-none-any.whl (62 kB)\n",
            "\u001b[K     |████████████████████████████████| 62 kB 1.5 MB/s \n",
            "\u001b[?25hRequirement already satisfied: pandas>=0.24.0 in /usr/local/lib/python3.7/dist-packages (from yfinance) (1.3.5)\n",
            "Requirement already satisfied: numpy>=1.15 in /usr/local/lib/python3.7/dist-packages (from yfinance) (1.21.6)\n",
            "Collecting lxml>=4.5.1\n",
            "  Downloading lxml-4.9.1-cp37-cp37m-manylinux_2_17_x86_64.manylinux2014_x86_64.manylinux_2_24_x86_64.whl (6.4 MB)\n",
            "\u001b[K     |████████████████████████████████| 6.4 MB 23.1 MB/s \n",
            "\u001b[?25hRequirement already satisfied: python-dateutil>=2.7.3 in /usr/local/lib/python3.7/dist-packages (from pandas>=0.24.0->yfinance) (2.8.2)\n",
            "Requirement already satisfied: pytz>=2017.3 in /usr/local/lib/python3.7/dist-packages (from pandas>=0.24.0->yfinance) (2022.1)\n",
            "Requirement already satisfied: six>=1.5 in /usr/local/lib/python3.7/dist-packages (from python-dateutil>=2.7.3->pandas>=0.24.0->yfinance) (1.15.0)\n",
            "Requirement already satisfied: certifi>=2017.4.17 in /usr/local/lib/python3.7/dist-packages (from requests>=2.26->yfinance) (2022.6.15)\n",
            "Requirement already satisfied: urllib3<1.27,>=1.21.1 in /usr/local/lib/python3.7/dist-packages (from requests>=2.26->yfinance) (1.24.3)\n",
            "Requirement already satisfied: charset-normalizer<3,>=2 in /usr/local/lib/python3.7/dist-packages (from requests>=2.26->yfinance) (2.1.0)\n",
            "Requirement already satisfied: idna<4,>=2.5 in /usr/local/lib/python3.7/dist-packages (from requests>=2.26->yfinance) (2.10)\n",
            "Installing collected packages: requests, lxml, yfinance\n",
            "  Attempting uninstall: requests\n",
            "    Found existing installation: requests 2.23.0\n",
            "    Uninstalling requests-2.23.0:\n",
            "      Successfully uninstalled requests-2.23.0\n",
            "  Attempting uninstall: lxml\n",
            "    Found existing installation: lxml 4.2.6\n",
            "    Uninstalling lxml-4.2.6:\n",
            "      Successfully uninstalled lxml-4.2.6\n",
            "\u001b[31mERROR: pip's dependency resolver does not currently take into account all the packages that are installed. This behaviour is the source of the following dependency conflicts.\n",
            "google-colab 1.0.0 requires requests~=2.23.0, but you have requests 2.28.1 which is incompatible.\n",
            "datascience 0.10.6 requires folium==0.2.1, but you have folium 0.8.3 which is incompatible.\u001b[0m\n",
            "Successfully installed lxml-4.9.1 requests-2.28.1 yfinance-0.1.74\n"
          ]
        }
      ],
      "source": [
        "pip install yfinance"
      ]
    },
    {
      "cell_type": "markdown",
      "source": [
        "Obtener los precios desde una fecha de inicio hasta el día de hoy"
      ],
      "metadata": {
        "id": "Yv9m7QmoAkaY"
      }
    },
    {
      "cell_type": "code",
      "source": [
        "import yfinance as yahooFinance\n",
        "import datetime\n",
        "fechaInicio = datetime.datetime (2018, 1, 1)\n",
        "fechaFin = datetime.datetime.now()\n",
        "fechaInicioVal = datetime.datetime (2019,12,31)\n",
        "dataM = yahooFinance.download(\"GOOG\",start = fechaInicio, end=fechaFin, interval = \"1mo\", auto_adjust = True)\n",
        "rangoValida = dataM.loc[fechaInicioVal:fechaFin].shape[0]\n",
        "\n",
        "print (dataM)"
      ],
      "metadata": {
        "id": "oSnYiYAL8IgX",
        "colab": {
          "base_uri": "https://localhost:8080/"
        },
        "outputId": "f9765900-0d05-4572-d889-c912eb3fbab9"
      },
      "execution_count": null,
      "outputs": [
        {
          "output_type": "stream",
          "name": "stdout",
          "text": [
            "\r[*********************100%***********************]  1 of 1 completed\n",
            "                  Open        High         Low       Close        Volume\n",
            "Date                                                                    \n",
            "2018-01-01   52.320000   59.344501   52.261501   58.497002  5.747697e+08\n",
            "2018-02-01   58.130501   58.700001   49.627998   55.236500  8.476821e+08\n",
            "2018-03-01   55.393501   58.852501   49.032001   51.589500  9.086010e+08\n",
            "2018-04-01   51.140999   54.708248   49.518501   50.866501  8.354655e+08\n",
            "2018-05-01   50.682999   55.537498   50.314499   54.249500  6.357471e+08\n",
            "2018-06-01   54.967499   59.314281   54.800499   55.782501  6.420728e+08\n",
            "2018-07-01   54.950001   63.694500   54.689999   60.862999  6.390677e+08\n",
            "2018-08-01   61.400002   62.825001   59.411999   60.909500  5.764076e+08\n",
            "2018-09-01   60.909500   60.909500   57.345501   59.673500  5.772640e+08\n",
            "2018-10-01   59.994499   60.498001   49.791500   53.838501  9.699233e+08\n",
            "2018-11-01   53.790001   54.778500   49.800999   54.721500  7.347114e+08\n",
            "2018-12-01   56.157001   56.232498   48.505501   51.780499  8.051292e+08\n",
            "2019-01-01   51.780499   55.866501   50.703499   55.818501  6.142930e+08\n",
            "2019-02-01   55.619999   57.349998   54.299999   55.995998  5.786929e+08\n",
            "2019-03-01   56.244999   61.589500   56.165001   58.665501  6.331787e+08\n",
            "2019-04-01   59.205002   64.463501   58.750000   59.424000  5.572127e+08\n",
            "2019-05-01   59.402500   59.542500   55.008999   55.181499  6.664752e+08\n",
            "2019-06-01   53.275002   56.205502   51.250000   54.045502  6.819766e+08\n",
            "2019-07-01   54.900002   63.277496   54.685150   60.834000  6.583915e+08\n",
            "2019-08-01   60.701500   61.705502   57.007000   59.404999  5.790546e+08\n",
            "2019-09-01   59.404999   62.415001   58.160000   60.950001  5.437298e+08\n",
            "2019-10-01   60.950001   64.965500   58.121498   63.005501  5.870005e+08\n",
            "2019-11-01   63.250000   66.776443   63.025002   65.248001  4.991381e+08\n",
            "2019-12-01   65.050003   68.250000   63.950001   66.850998  5.525541e+08\n",
            "2020-01-01   66.850998   75.160713   66.850998   71.711502  6.717348e+08\n",
            "2020-02-01   73.099998   76.605316   63.549999   66.966499  7.420628e+08\n",
            "2020-03-01   67.580498   69.543503   50.676804   58.140499  1.379922e+09\n",
            "2020-04-01   56.099998   67.999496   53.990501   67.432999  9.267345e+08\n",
            "2020-05-01   66.425003   72.050003   64.949997   71.445999  6.378195e+08\n",
            "2020-06-01   70.919502   73.797050   67.350502   70.680496  7.766665e+08\n",
            "2020-07-01   70.555000   79.349503   70.490997   74.148003  7.048004e+08\n",
            "2020-08-01   74.332001   82.960999   72.932503   81.709000  7.461583e+08\n",
            "2020-09-01   81.831497   86.658997   70.327499   73.480003  8.114124e+08\n",
            "2020-10-01   74.213501   84.349998   71.800003   81.050499  7.852069e+08\n",
            "2020-11-01   81.407997   90.903000   80.801498   88.037003  7.008050e+08\n",
            "2020-12-01   88.718498   92.360001   84.949997   87.594002  6.294026e+08\n",
            "2021-01-01   87.594002   96.742996   84.949997   91.787003  6.616804e+08\n",
            "2021-02-01   92.678497  107.634003   92.546501  101.843002  5.886103e+08\n",
            "2021-03-01  102.825996  106.440498  100.500000  103.431503  6.959315e+08\n",
            "2021-04-01  104.897499  122.618896  104.844498  120.505997  6.145414e+08\n",
            "2021-05-01  120.136002  122.147202  111.502502  120.578003  5.091281e+08\n",
            "2021-06-01  121.099998  127.795998  119.141502  125.316002  5.486809e+08\n",
            "2021-07-01  124.849747  140.011002  124.849747  135.220993  4.568092e+08\n",
            "2021-08-01  135.484497  146.489502  134.183502  145.462006  3.723698e+08\n",
            "2021-09-01  145.649994  146.820496  133.000000  133.265503  5.053125e+08\n",
            "2021-10-01  133.554504  149.117996  131.166504  148.270493  4.966101e+08\n",
            "2021-11-01  148.164993  151.850006  142.065994  142.451996  4.432430e+08\n",
            "2021-12-01  144.212494  149.604996  140.250000  144.679504  4.793603e+08\n",
            "2022-01-01  144.475494  146.610001  124.641953  135.698502  6.157173e+08\n",
            "2022-02-01  137.835007  152.100006  124.764503  134.891006  7.326492e+08\n",
            "2022-03-01  134.479996  144.162506  125.860748  139.649506  6.374665e+08\n",
            "2022-04-01  140.009995  144.043747  113.124252  114.966499  5.649457e+08\n",
            "2022-05-01  113.906502  123.142998  102.208000  114.039001  7.174849e+08\n",
            "2022-06-01  114.931503  119.398483  105.628532  109.372498  6.271656e+08\n",
            "2022-07-01  108.336998  120.434998  106.249504  112.766998  3.145136e+08\n",
            "2022-07-18         NaN         NaN         NaN         NaN           NaN\n"
          ]
        }
      ]
    },
    {
      "cell_type": "markdown",
      "source": [
        "Obtener los precios de cierre mensuales de la acción "
      ],
      "metadata": {
        "id": "-i8WxekAAuVt"
      }
    },
    {
      "cell_type": "code",
      "source": [
        "PreciosCierre = dataM['Close'].values\n",
        "print(PreciosCierre)"
      ],
      "metadata": {
        "id": "dFgmB66qBoOG",
        "colab": {
          "base_uri": "https://localhost:8080/"
        },
        "outputId": "67d6202d-1b6d-44dc-80a4-eb99c568030b"
      },
      "execution_count": null,
      "outputs": [
        {
          "output_type": "stream",
          "name": "stdout",
          "text": [
            "[ 58.49700165  55.23649979  51.58950043  50.86650085  54.24950027\n",
            "  55.78250122  60.86299896  60.90950012  59.67350006  53.83850098\n",
            "  54.7215004   51.7804985   55.81850052  55.99599838  58.66550064\n",
            "  59.42399979  55.18149948  54.04550171  60.83399963  59.40499878\n",
            "  60.95000076  63.00550079  65.2480011   66.85099792  71.71150208\n",
            "  66.96649933  58.14049911  67.43299866  71.44599915  70.68049622\n",
            "  74.14800262  81.70899963  73.48000336  81.05049896  88.03700256\n",
            "  87.59400177  91.78700256 101.84300232 103.4315033  120.5059967\n",
            " 120.57800293 125.31600189 135.22099304 145.46200562 133.26550293\n",
            " 148.27049255 142.45199585 144.67950439 135.69850159 134.89100647\n",
            " 139.64950562 114.96649933 114.03900146 109.37249756 112.76699829\n",
            "          nan]\n"
          ]
        }
      ]
    },
    {
      "cell_type": "markdown",
      "source": [
        "Instalar Torch"
      ],
      "metadata": {
        "id": "oV3AtTtaAP0q"
      }
    },
    {
      "cell_type": "code",
      "source": [
        "pip install torch"
      ],
      "metadata": {
        "id": "3KYmn_mbIFQs",
        "colab": {
          "base_uri": "https://localhost:8080/"
        },
        "outputId": "f298110d-486e-4f8b-a6b2-bfcd4e6c4e36"
      },
      "execution_count": null,
      "outputs": [
        {
          "output_type": "stream",
          "name": "stdout",
          "text": [
            "Looking in indexes: https://pypi.org/simple, https://us-python.pkg.dev/colab-wheels/public/simple/\n",
            "Requirement already satisfied: torch in /usr/local/lib/python3.7/dist-packages (1.12.0+cu113)\n",
            "Requirement already satisfied: typing-extensions in /usr/local/lib/python3.7/dist-packages (from torch) (4.1.1)\n"
          ]
        }
      ]
    },
    {
      "cell_type": "markdown",
      "source": [
        "Importar herramientas de Torch, Numpy y Matplotlib"
      ],
      "metadata": {
        "id": "XSEsMOWR7QM8"
      }
    },
    {
      "cell_type": "code",
      "source": [
        "import torch\n",
        "import torch.optim as optim\n",
        "import torch.nn as nn\n",
        "from torch.utils.data import (Dataset, TensorDataset,\n",
        " DataLoader, Subset)\n",
        "from collections import OrderedDict\n",
        "import numpy as np\n",
        "import matplotlib.pyplot as plt\n",
        "import os\n",
        "import random\n",
        "device = 'cuda' if torch.cuda.is_available() else 'cpu'\n",
        "NumCiclos = 2000\n",
        "NumRezago = 3\n",
        "BATCH_SIZE= 5"
      ],
      "metadata": {
        "id": "8RxjnNBU_PBw"
      },
      "execution_count": null,
      "outputs": []
    },
    {
      "cell_type": "markdown",
      "source": [
        "Definr métodos para generar Tensores y Dataset y generador aleatorio"
      ],
      "metadata": {
        "id": "CcW6caV6BYoq"
      }
    },
    {
      "cell_type": "markdown",
      "source": [
        "Creación de datos en arreglos / convertir en tensores"
      ],
      "metadata": {
        "id": "JZGMGxBSBfGV"
      }
    },
    {
      "cell_type": "code",
      "source": [
        "def crearDatosEntrada(series, nAtras=1):\n",
        "    '''\n",
        "    Transformar datos para CNN.\n",
        "    \n",
        "    Parametros\n",
        "    ----------\n",
        "    series : np.array\n",
        "        La serie de tiempo para ser transformada\n",
        "    nAtras : int\n",
        "        numero de observaciones hacia atrás\n",
        "        \n",
        "    Devuelve\n",
        "    -------\n",
        "    x : np.array\n",
        "        Arreglo precio\n",
        "    y : np.array\n",
        "        Arreglo de pronostico\n",
        "    '''\n",
        "    x = []\n",
        "    y = []\n",
        "    for precio in range(len(series) - nAtras):\n",
        "        finPrecio = precio + nAtras\n",
        "        x.append(series[precio:finPrecio])\n",
        "        y.append(series[finPrecio])\n",
        "    return np.array(x), np.array(y)\n",
        "    \n",
        "x, y= crearDatosEntrada (PreciosCierre, NumRezago)\n",
        "\n",
        "xTensor = torch.from_numpy(x).float()\n",
        "yTensor = torch.from_numpy(y).float().unsqueeze(dim=1)\n",
        "\n",
        "print (xTensor)\n",
        "print (xTensor.shape)\n",
        "print (yTensor)\n",
        "print (yTensor.shape)\n",
        "plt.plot(xTensor)\n",
        "plt.plot(yTensor)\n",
        "plt.show()"
      ],
      "metadata": {
        "id": "NGHgRm4tMeNE"
      },
      "execution_count": null,
      "outputs": []
    },
    {
      "cell_type": "markdown",
      "source": [
        "Crear dataset para aprendisaje y entrenamiento de red"
      ],
      "metadata": {
        "id": "Bq5fodsy646D"
      }
    },
    {
      "cell_type": "code",
      "source": [
        "def generaAleatoreaSemi(seed):\n",
        "    torch.manual_seed(seed)\n",
        "    torch.cuda.manual_seed_all(seed)\n",
        "    torch.backends.cudnn.deterministic = True\n",
        "    torch.backends.cudnn.benchmark = False\n",
        "    np.random.seed(seed)\n",
        "    random.seed(seed)\n",
        "    os.environ['PYTHONHASHSEED'] = str(seed)"
      ],
      "metadata": {
        "id": "SgjQ5AHgAcHV"
      },
      "execution_count": null,
      "outputs": []
    },
    {
      "cell_type": "code",
      "source": [
        "\n",
        "generaAleatoreaSemi(42)\n",
        "\n",
        "rangoBase = len(x) - rangoValida\n",
        "\n",
        "X_tensor = torch.from_numpy(x).float()\n",
        "y_tensor = torch.from_numpy(y).float().unsqueeze(dim=1)\n",
        "\n",
        "\n",
        "dataset = TensorDataset(xTensor, yTensor)\n",
        "rangoBase = len (x) - rangoValida\n",
        "\n",
        "entrenarDataset = Subset(dataset, list(range(rangoBase)))\n",
        "validarDataset = Subset(dataset, list(range(rangoBase, len(x))))\n",
        "\n",
        "cargaEntreno = DataLoader(dataset=entrenarDataset,\n",
        "                          batch_size=BATCH_SIZE)\n",
        "cargaValidar = DataLoader(dataset=validarDataset, \n",
        "                          batch_size=BATCH_SIZE)\n"
      ],
      "metadata": {
        "id": "zXjdXXElelWp"
      },
      "execution_count": null,
      "outputs": []
    },
    {
      "cell_type": "markdown",
      "source": [
        "Definir arquitectura CNN"
      ],
      "metadata": {
        "id": "ZK3fj3MBP8FP"
      }
    },
    {
      "cell_type": "code",
      "source": [
        "class Flatten (nn.Module):\n",
        " def forward(self, X):\n",
        "  return x.view(x.size()[0], -1)\n",
        " \n",
        "model = nn.Sequential(OrderedDict([\n",
        " ('conv_1', nn.Conv1d(1, 32, 3, padding=1)),\n",
        " ('max_pool_1', nn.MaxPool1d(2)),\n",
        " ('relu_1', nn.ReLU()),\n",
        " ('flatten', Flatten()),\n",
        " ('fc_1', nn.Linear(192, 50)),\n",
        " ('relu_2', nn.ReLU()),\n",
        " ('dropout_1', nn.Dropout(0.4)),\n",
        " ('fc_2', nn.Linear(50, 1))\n",
        "]))\n",
        "print(model)\n"
      ],
      "metadata": {
        "id": "5JMaqafgQA9k",
        "colab": {
          "base_uri": "https://localhost:8080/"
        },
        "outputId": "76552e97-d8d7-4295-84c3-9a955063f356"
      },
      "execution_count": null,
      "outputs": [
        {
          "output_type": "stream",
          "name": "stdout",
          "text": [
            "Sequential(\n",
            "  (conv_1): Conv1d(1, 32, kernel_size=(3,), stride=(1,), padding=(1,))\n",
            "  (max_pool_1): MaxPool1d(kernel_size=2, stride=2, padding=0, dilation=1, ceil_mode=False)\n",
            "  (relu_1): ReLU()\n",
            "  (flatten): Flatten()\n",
            "  (fc_1): Linear(in_features=192, out_features=50, bias=True)\n",
            "  (relu_2): ReLU()\n",
            "  (dropout_1): Dropout(p=0.4, inplace=False)\n",
            "  (fc_2): Linear(in_features=50, out_features=1, bias=True)\n",
            ")\n"
          ]
        }
      ]
    },
    {
      "cell_type": "markdown",
      "source": [
        "Instanciando el modelo, funcion de perdida y optimizador"
      ],
      "metadata": {
        "id": "9wVZhk8mpSf6"
      }
    },
    {
      "cell_type": "code",
      "source": [
        "model = model.to(device)\n",
        "lossFn = nn.MSELoss()\n",
        "optimizer = optim.Adam(model.parameters(), lr=0.001)"
      ],
      "metadata": {
        "id": "-Oj4wIxupkn4"
      },
      "execution_count": null,
      "outputs": []
    },
    {
      "cell_type": "markdown",
      "source": [
        "Entrenado la CNN"
      ],
      "metadata": {
        "id": "CgSm7fh7pzFd"
      }
    },
    {
      "cell_type": "code",
      "source": [
        "ImprimirCada = 50\n",
        "entrenarPerdida, validarPerdida = [], []\n",
        "\n",
        "for epoch in range(NumCiclos):\n",
        "    ejecutarEntrenarPerdida = 0\n",
        "    ejecutarValidarPerdida = 0\n",
        "\n",
        "    model.train()\n",
        "    \n",
        "    for x_batch, y_batch in cargaEntreno:\n",
        "        \n",
        "        optimizer.zero_grad()\n",
        "        \n",
        "        x_batch = x_batch.to(device)\n",
        "        x_batch = x_batch.view(x_batch.shape[0], 1, NumRezago)\n",
        "        y_batch = y_batch.to(device)\n",
        "        y_batch = y_batch.view(y_batch.shape[0], 1, 1)\n",
        "        y_hat = model(x_batch).view(y_batch.shape[0], 1, 1)\n",
        "        loss = torch.sqrt(lossFn(y_batch, y_hat))\n",
        "        loss.backward()\n",
        "        optimizer.step()\n",
        "        ejecutarEntrenarPerdida += loss.item() * x_batch.size(0)\n",
        "        \n",
        "    epoch_loss_train = ejecutarEntrenarPerdida / len(cargaEntreno.dataset)\n",
        "    entrenarPerdida.append(epoch_loss_train)\n",
        "\n",
        "    with torch.no_grad():\n",
        "        model.eval()\n",
        "        for x_val, y_val in cargaValidar:\n",
        "            x_val = x_val.to(device)\n",
        "            x_val = x_val.view(x_val.shape[0], 1, NumRezago)\n",
        "            y_val = y_val.to(device)\n",
        "            y_val = y_val.view(y_val.shape[0], 1, 1)\n",
        "            y_hat = model(x_val).view(y_val.shape[0], 1, 1)\n",
        "            loss = torch.sqrt(lossFn(y_val, y_hat))\n",
        "            ejecutarValidarPerdida += loss.item() * x_val.size(0)\n",
        "            \n",
        "        epoch_loss_valid = ejecutarValidarPerdida / len(cargaValidar.dataset)\n",
        "            \n",
        "        if epoch > 0 and epoch_loss_valid < min(validarPerdida):\n",
        "            best_epoch = epoch\n",
        "            torch.save(model.state_dict(), './cnn_checkpoint.pth')\n",
        "            \n",
        "        validarPerdida.append(epoch_loss_valid)\n",
        "\n",
        "    if epoch % ImprimirCada == 0:\n",
        "        print(f\"<{epoch}> - Train. loss: {epoch_loss_train:.6f} \\t Valid. loss: {epoch_loss_valid:.6f}\")\n",
        "        \n",
        "print(f'Menor error encontrado en los ciclos: {best_epoch}')"
      ],
      "metadata": {
        "id": "XQMCd5ppqCB-",
        "colab": {
          "base_uri": "https://localhost:8080/",
          "height": 381
        },
        "outputId": "5a7c18bd-9ce4-47f9-b6ae-0bc6ab699adb"
      },
      "execution_count": null,
      "outputs": [
        {
          "output_type": "error",
          "ename": "TypeError",
          "evalue": "ignored",
          "traceback": [
            "\u001b[0;31m---------------------------------------------------------------------------\u001b[0m",
            "\u001b[0;31mTypeError\u001b[0m                                 Traceback (most recent call last)",
            "\u001b[0;32m<ipython-input-12-7f27edbc2918>\u001b[0m in \u001b[0;36m<module>\u001b[0;34m()\u001b[0m\n\u001b[1;32m     16\u001b[0m         \u001b[0my_batch\u001b[0m \u001b[0;34m=\u001b[0m \u001b[0my_batch\u001b[0m\u001b[0;34m.\u001b[0m\u001b[0mto\u001b[0m\u001b[0;34m(\u001b[0m\u001b[0mdevice\u001b[0m\u001b[0;34m)\u001b[0m\u001b[0;34m\u001b[0m\u001b[0;34m\u001b[0m\u001b[0m\n\u001b[1;32m     17\u001b[0m         \u001b[0my_batch\u001b[0m \u001b[0;34m=\u001b[0m \u001b[0my_batch\u001b[0m\u001b[0;34m.\u001b[0m\u001b[0mview\u001b[0m\u001b[0;34m(\u001b[0m\u001b[0my_batch\u001b[0m\u001b[0;34m.\u001b[0m\u001b[0mshape\u001b[0m\u001b[0;34m[\u001b[0m\u001b[0;36m0\u001b[0m\u001b[0;34m]\u001b[0m\u001b[0;34m,\u001b[0m \u001b[0;36m1\u001b[0m\u001b[0;34m,\u001b[0m \u001b[0;36m1\u001b[0m\u001b[0;34m)\u001b[0m\u001b[0;34m\u001b[0m\u001b[0;34m\u001b[0m\u001b[0m\n\u001b[0;32m---> 18\u001b[0;31m         \u001b[0my_hat\u001b[0m \u001b[0;34m=\u001b[0m \u001b[0mmodel\u001b[0m\u001b[0;34m(\u001b[0m\u001b[0mx_batch\u001b[0m\u001b[0;34m)\u001b[0m\u001b[0;34m.\u001b[0m\u001b[0mview\u001b[0m\u001b[0;34m(\u001b[0m\u001b[0my_batch\u001b[0m\u001b[0;34m.\u001b[0m\u001b[0mshape\u001b[0m\u001b[0;34m[\u001b[0m\u001b[0;36m0\u001b[0m\u001b[0;34m]\u001b[0m\u001b[0;34m,\u001b[0m \u001b[0;36m1\u001b[0m\u001b[0;34m,\u001b[0m \u001b[0;36m1\u001b[0m\u001b[0;34m)\u001b[0m\u001b[0;34m\u001b[0m\u001b[0;34m\u001b[0m\u001b[0m\n\u001b[0m\u001b[1;32m     19\u001b[0m         \u001b[0mloss\u001b[0m \u001b[0;34m=\u001b[0m \u001b[0mtorch\u001b[0m\u001b[0;34m.\u001b[0m\u001b[0msqrt\u001b[0m\u001b[0;34m(\u001b[0m\u001b[0mlossFn\u001b[0m\u001b[0;34m(\u001b[0m\u001b[0my_batch\u001b[0m\u001b[0;34m,\u001b[0m \u001b[0my_hat\u001b[0m\u001b[0;34m)\u001b[0m\u001b[0;34m)\u001b[0m\u001b[0;34m\u001b[0m\u001b[0;34m\u001b[0m\u001b[0m\n\u001b[1;32m     20\u001b[0m         \u001b[0mloss\u001b[0m\u001b[0;34m.\u001b[0m\u001b[0mbackward\u001b[0m\u001b[0;34m(\u001b[0m\u001b[0;34m)\u001b[0m\u001b[0;34m\u001b[0m\u001b[0;34m\u001b[0m\u001b[0m\n",
            "\u001b[0;32m/usr/local/lib/python3.7/dist-packages/torch/nn/modules/module.py\u001b[0m in \u001b[0;36m_call_impl\u001b[0;34m(self, *input, **kwargs)\u001b[0m\n\u001b[1;32m   1128\u001b[0m         if not (self._backward_hooks or self._forward_hooks or self._forward_pre_hooks or _global_backward_hooks\n\u001b[1;32m   1129\u001b[0m                 or _global_forward_hooks or _global_forward_pre_hooks):\n\u001b[0;32m-> 1130\u001b[0;31m             \u001b[0;32mreturn\u001b[0m \u001b[0mforward_call\u001b[0m\u001b[0;34m(\u001b[0m\u001b[0;34m*\u001b[0m\u001b[0minput\u001b[0m\u001b[0;34m,\u001b[0m \u001b[0;34m**\u001b[0m\u001b[0mkwargs\u001b[0m\u001b[0;34m)\u001b[0m\u001b[0;34m\u001b[0m\u001b[0;34m\u001b[0m\u001b[0m\n\u001b[0m\u001b[1;32m   1131\u001b[0m         \u001b[0;31m# Do not call functions when jit is used\u001b[0m\u001b[0;34m\u001b[0m\u001b[0;34m\u001b[0m\u001b[0;34m\u001b[0m\u001b[0m\n\u001b[1;32m   1132\u001b[0m         \u001b[0mfull_backward_hooks\u001b[0m\u001b[0;34m,\u001b[0m \u001b[0mnon_full_backward_hooks\u001b[0m \u001b[0;34m=\u001b[0m \u001b[0;34m[\u001b[0m\u001b[0;34m]\u001b[0m\u001b[0;34m,\u001b[0m \u001b[0;34m[\u001b[0m\u001b[0;34m]\u001b[0m\u001b[0;34m\u001b[0m\u001b[0;34m\u001b[0m\u001b[0m\n",
            "\u001b[0;32m/usr/local/lib/python3.7/dist-packages/torch/nn/modules/container.py\u001b[0m in \u001b[0;36mforward\u001b[0;34m(self, input)\u001b[0m\n\u001b[1;32m    137\u001b[0m     \u001b[0;32mdef\u001b[0m \u001b[0mforward\u001b[0m\u001b[0;34m(\u001b[0m\u001b[0mself\u001b[0m\u001b[0;34m,\u001b[0m \u001b[0minput\u001b[0m\u001b[0;34m)\u001b[0m\u001b[0;34m:\u001b[0m\u001b[0;34m\u001b[0m\u001b[0;34m\u001b[0m\u001b[0m\n\u001b[1;32m    138\u001b[0m         \u001b[0;32mfor\u001b[0m \u001b[0mmodule\u001b[0m \u001b[0;32min\u001b[0m \u001b[0mself\u001b[0m\u001b[0;34m:\u001b[0m\u001b[0;34m\u001b[0m\u001b[0;34m\u001b[0m\u001b[0m\n\u001b[0;32m--> 139\u001b[0;31m             \u001b[0minput\u001b[0m \u001b[0;34m=\u001b[0m \u001b[0mmodule\u001b[0m\u001b[0;34m(\u001b[0m\u001b[0minput\u001b[0m\u001b[0;34m)\u001b[0m\u001b[0;34m\u001b[0m\u001b[0;34m\u001b[0m\u001b[0m\n\u001b[0m\u001b[1;32m    140\u001b[0m         \u001b[0;32mreturn\u001b[0m \u001b[0minput\u001b[0m\u001b[0;34m\u001b[0m\u001b[0;34m\u001b[0m\u001b[0m\n\u001b[1;32m    141\u001b[0m \u001b[0;34m\u001b[0m\u001b[0m\n",
            "\u001b[0;32m/usr/local/lib/python3.7/dist-packages/torch/nn/modules/module.py\u001b[0m in \u001b[0;36m_call_impl\u001b[0;34m(self, *input, **kwargs)\u001b[0m\n\u001b[1;32m   1128\u001b[0m         if not (self._backward_hooks or self._forward_hooks or self._forward_pre_hooks or _global_backward_hooks\n\u001b[1;32m   1129\u001b[0m                 or _global_forward_hooks or _global_forward_pre_hooks):\n\u001b[0;32m-> 1130\u001b[0;31m             \u001b[0;32mreturn\u001b[0m \u001b[0mforward_call\u001b[0m\u001b[0;34m(\u001b[0m\u001b[0;34m*\u001b[0m\u001b[0minput\u001b[0m\u001b[0;34m,\u001b[0m \u001b[0;34m**\u001b[0m\u001b[0mkwargs\u001b[0m\u001b[0;34m)\u001b[0m\u001b[0;34m\u001b[0m\u001b[0;34m\u001b[0m\u001b[0m\n\u001b[0m\u001b[1;32m   1131\u001b[0m         \u001b[0;31m# Do not call functions when jit is used\u001b[0m\u001b[0;34m\u001b[0m\u001b[0;34m\u001b[0m\u001b[0;34m\u001b[0m\u001b[0m\n\u001b[1;32m   1132\u001b[0m         \u001b[0mfull_backward_hooks\u001b[0m\u001b[0;34m,\u001b[0m \u001b[0mnon_full_backward_hooks\u001b[0m \u001b[0;34m=\u001b[0m \u001b[0;34m[\u001b[0m\u001b[0;34m]\u001b[0m\u001b[0;34m,\u001b[0m \u001b[0;34m[\u001b[0m\u001b[0;34m]\u001b[0m\u001b[0;34m\u001b[0m\u001b[0;34m\u001b[0m\u001b[0m\n",
            "\u001b[0;32m<ipython-input-10-7e2e9041f84d>\u001b[0m in \u001b[0;36mforward\u001b[0;34m(self, X)\u001b[0m\n\u001b[1;32m      1\u001b[0m \u001b[0;32mclass\u001b[0m \u001b[0mFlatten\u001b[0m \u001b[0;34m(\u001b[0m\u001b[0mnn\u001b[0m\u001b[0;34m.\u001b[0m\u001b[0mModule\u001b[0m\u001b[0;34m)\u001b[0m\u001b[0;34m:\u001b[0m\u001b[0;34m\u001b[0m\u001b[0;34m\u001b[0m\u001b[0m\n\u001b[1;32m      2\u001b[0m  \u001b[0;32mdef\u001b[0m \u001b[0mforward\u001b[0m\u001b[0;34m(\u001b[0m\u001b[0mself\u001b[0m\u001b[0;34m,\u001b[0m \u001b[0mX\u001b[0m\u001b[0;34m)\u001b[0m\u001b[0;34m:\u001b[0m\u001b[0;34m\u001b[0m\u001b[0;34m\u001b[0m\u001b[0m\n\u001b[0;32m----> 3\u001b[0;31m   \u001b[0;32mreturn\u001b[0m \u001b[0mx\u001b[0m\u001b[0;34m.\u001b[0m\u001b[0mview\u001b[0m\u001b[0;34m(\u001b[0m\u001b[0mx\u001b[0m\u001b[0;34m.\u001b[0m\u001b[0msize\u001b[0m\u001b[0;34m(\u001b[0m\u001b[0;34m)\u001b[0m\u001b[0;34m[\u001b[0m\u001b[0;36m0\u001b[0m\u001b[0;34m]\u001b[0m\u001b[0;34m,\u001b[0m \u001b[0;34m-\u001b[0m\u001b[0;36m1\u001b[0m\u001b[0;34m)\u001b[0m\u001b[0;34m\u001b[0m\u001b[0;34m\u001b[0m\u001b[0m\n\u001b[0m\u001b[1;32m      4\u001b[0m \u001b[0;34m\u001b[0m\u001b[0m\n\u001b[1;32m      5\u001b[0m model = nn.Sequential(OrderedDict([\n",
            "\u001b[0;31mTypeError\u001b[0m: 'int' object is not callable"
          ]
        }
      ]
    }
  ]
}